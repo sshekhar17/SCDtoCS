{
 "cells": [
  {
   "cell_type": "markdown",
   "metadata": {},
   "source": [
    "## Example: Detecting changes in mean of a stream of bounded observations\n",
    "\n",
    "We consider the following problem: \n",
    "* We are given a stream of independent $[0, 1]$-valued observations, $X_1, X_2, \\ldots$\n",
    "* At some \"changepoint\" $T$, at which the mean of the distribution changes from $\\mu_0$ to $\\mu_1$. All these three terms, $T$, $\\mu_0$, and $\\mu_1$ are unknown to us. \n",
    "* We want to develop a stopping rule, $\\tau$, which ensures that \n",
    "    * If $T=\\infty$ or $0$ (or there is no change), then $\\mathbb{E}[\\tau]$ is large; at least $1/\\alpha$ for some given $\\alpha \\in (0,1)$. \n",
    "    * Otherwise, if $T<\\infty$, then the detection delay, $\\mathbb{E}[(\\tau-T)^+]$ is as small as possible. \n",
    "\n",
    "\n",
    "In this example, we compare the performance of two instantiations of the general change-detection meta-algorithm~(called `Repeated-FCS-detector`) introduced in Definition 2.1 of [Shekhar and Ramdas (2023)](https://arxiv.org/pdf/2309.09111.pdf). In particular, we compare \n",
    "1. Instantiation of `Repeated-FCS-detector` with Hoeffding Confidence Sequences (CS) introduced in Prop. 1 of [Waudby-Smith and Ramdas (2023)](https://arxiv.org/pdf/2010.09686.pdf)\n",
    "1. Instantiation of `Repeated-FCS-detector` with Empirical-Bernstein Confidence Sequences (CS) introduced in Theorem 1 of [Waudby-Smith and Ramdas (2023)](https://arxiv.org/pdf/2010.09686.pdf)\n",
    "\n",
    "\n",
    "In particular, we compare their performance in the following three experiments: \n",
    "* Experiment1: Comparison of Rejection rates when there is no changepoint \n",
    "* Experiment2: Comparison of Detection Delays under a fixed change $\\Delta$\n",
    "* Experiment3: Variation of their Detection Delays with changing $\\Delta$. "
   ]
  },
  {
   "cell_type": "code",
   "execution_count": 1,
   "metadata": {},
   "outputs": [
    {
     "name": "stderr",
     "output_type": "stream",
     "text": [
      "100%|██████████| 100/100 [01:36<00:00,  1.04it/s]\n",
      "100%|██████████| 100/100 [04:27<00:00,  2.67s/it]\n"
     ]
    }
   ],
   "source": [
    "import numpy as np \n",
    "import matplotlib.pyplot as plt \n",
    "\n",
    "from utils import createBoundedSource, evaluateExpt\n",
    "from main import BoundedMeanBernsteinSCD, BoundedMeanHoeffdingSCD\n",
    "\n",
    "############## Experiment1: No change in distribution ##############\n",
    "\n",
    "mu0 = 0.6 # pre-change mean \n",
    "Nmax = 1000 #maximum horizon to run one trial\n",
    "alpha = 0.005\n",
    "source1 = createBoundedSource(change_point=0, mu0=mu0, mu1=mu0) \n",
    "\n",
    "# initialize the two change-detection-schemes for bounded observations\n",
    "HoeffSCD = BoundedMeanHoeffdingSCD(source1, Nmax, progress_bar=True,\n",
    "                                    max_num_CSs=Nmax, alpha=alpha)\n",
    "BernSCD = BoundedMeanBernsteinSCD(source1, Nmax, progress_bar=True,\n",
    "                                    max_num_CSs=Nmax, alpha=alpha)\n",
    "                        \n",
    "# run the experiments \n",
    "num_trials=100\n",
    "FlagH1, TimesH1 = HoeffSCD.run_expt(num_trials)\n",
    "FlagB1, TimesB1 = BernSCD.run_expt(num_trials)\n",
    "\n",
    "# Number of False alarms \n",
    "print(f\"HoeffdingSCD False alarms {sum(FlagH1)/num_trials}\")\n",
    "print(f\"BernsteinSCD False alarms {sum(FlagB1)/num_trials}\")"
   ]
  },
  {
   "cell_type": "code",
   "execution_count": 8,
   "metadata": {},
   "outputs": [
    {
     "name": "stderr",
     "output_type": "stream",
     "text": [
      "100%|██████████| 100/100 [01:31<00:00,  1.10it/s]\n",
      "100%|██████████| 100/100 [00:43<00:00,  2.28it/s]"
     ]
    },
    {
     "name": "stdout",
     "output_type": "stream",
     "text": [
      "Hoeff: Delay=859.5698924731183, Rej-Rate = 0.93\n",
      "Bern: Delay=545.18, Rej-Rate = 1.0\n"
     ]
    },
    {
     "name": "stderr",
     "output_type": "stream",
     "text": [
      "\n"
     ]
    },
    {
     "data": {
      "image/png": "[encoded data removed]",
      "text/plain": [
       "<Figure size 640x480 with 1 Axes>"
      ]
     },
     "metadata": {},
     "output_type": "display_data"
    }
   ],
   "source": [
    "############## Experiment 2: Change in mean at a finite T ##############\n",
    "\n",
    "# create the new source (now with a change in mean)\n",
    "change_point = 500\n",
    "Nmax = 2000\n",
    "Delta = 0.40\n",
    "mu0 = 0.5\n",
    "mu1 = mu0 + Delta\n",
    "source2 = createBoundedSource(change_point=change_point, mu0=mu0, mu1=mu1) \n",
    "\n",
    "# update the two change-detection-schemes \n",
    "HoeffSCD.source, HoeffSCD.Nmax = source2, Nmax \n",
    "BernSCD.source, BernSCD.Nmax = source2, Nmax\n",
    "                        \n",
    "# run the experiments \n",
    "num_trials=100\n",
    "FlagH2, TimesH2 = HoeffSCD.run_expt(num_trials)\n",
    "FlagB2, TimesB2 = BernSCD.run_expt(num_trials)\n",
    "\n",
    "# plot the results \n",
    "AvgH, RejH = evaluateExpt(change_point, FlagH2, TimesH2)\n",
    "AvgB, RejB = evaluateExpt(change_point, FlagB2, TimesB2)\n",
    "print(f\"Hoeff: Delay={AvgH}, Rej-Rate = {RejH}\")\n",
    "print(f\"Bern: Delay={AvgB}, Rej-Rate = {RejB}\")\n",
    "\n",
    "plt.hist(TimesH2[FlagH2]-change_point, label='Hoeff-SCD', density=True, alpha=0.8)\n",
    "plt.hist(TimesB2[FlagB2]-change_point, label='Bern-SCD', density=True, alpha=0.8)\n",
    "plt.title(\"Distribution of Detection Delays\", fontsize=14)\n",
    "plt.xlabel(\"Detection-Delays\", fontsize=12)\n",
    "plt.ylabel(\"density\", fontsize=12)\n",
    "plt.legend()\n",
    "plt.show()\n"
   ]
  },
  {
   "cell_type": "code",
   "execution_count": null,
   "metadata": {},
   "outputs": [],
   "source": []
  },
  {
   "cell_type": "code",
   "execution_count": 9,
   "metadata": {},
   "outputs": [
    {
     "name": "stderr",
     "output_type": "stream",
     "text": [
      "100%|██████████| 20/20 [01:18<00:00,  3.91s/it]\n",
      "100%|██████████| 20/20 [01:47<00:00,  5.37s/it]\n",
      "100%|██████████| 20/20 [01:22<00:00,  4.13s/it]\n",
      "100%|██████████| 20/20 [00:35<00:00,  1.76s/it]\n",
      "100%|██████████| 20/20 [02:27<00:00,  7.36s/it]\n",
      "100%|██████████| 20/20 [00:18<00:00,  1.10it/s]\n",
      "100%|██████████| 20/20 [01:15<00:00,  3.79s/it]\n",
      "100%|██████████| 20/20 [00:09<00:00,  2.06it/s]\n",
      "  0%|          | 0/20 [00:00<?, ?it/s]"
     ]
    }
   ],
   "source": [
    "############## Experiment 3: Delay vs Delta ##############\n",
    "\n",
    "DELTA = np.array([0.15, 0.20, 0.25, 0.3, 0.35, 0.4])\n",
    "Nmax = 2500 # increase the maximum horizon for one trial \n",
    "HoeffSCD.Nmax = Nmax \n",
    "BernSCD.Nmax = Nmax \n",
    "mu0 = 0.5\n",
    "num_trials=20\n",
    "AvgDelayH = np.zeros((len(DELTA), ))\n",
    "AvgDelayB = np.zeros((len(DELTA), ))\n",
    "for i, Delta in enumerate(DELTA): \n",
    "    # create the new source \n",
    "    mu1 = mu0 + Delta\n",
    "    source_ = createBoundedSource(change_point=change_point, mu0=mu0, mu1=mu1)\n",
    "\n",
    "    # update the change-detection schemes \n",
    "    HoeffSCD.source = source_\n",
    "    BernSCD.source = source_\n",
    "\n",
    "    # run the two algorithms \n",
    "    FlagH_, TimesH_ = HoeffSCD.run_expt(num_trials) \n",
    "    FlagB_, TimesB_ = BernSCD.run_expt(num_trials) \n",
    "\n",
    "    # get the average detection delays\n",
    "    AvgDelayH[i], _ = evaluateExpt(change_point, FlagH_, TimesH_)\n",
    "    AvgDelayB[i], _ = evaluateExpt(change_point, FlagB_, TimesB_)\n",
    "\n",
    "plt.figure() \n",
    "plt.plot(DELTA, AvgDelayH, label='Hoeff-SCD')    \n",
    "plt.plot(DELTA, AvgDelayB, label='Bern-SCD')    \n",
    "plt.title('Variation of Delay with Delta', fontsize=14)\n",
    "plt.xlable(r'Change in mean ($\\Delta$)', fontsize=12)\n",
    "plt.ylable(r'Average Detection Delay', fontsize=12)\n",
    "plt.legend()\n",
    "plt.show()"
   ]
  },
  {
   "cell_type": "code",
   "execution_count": null,
   "metadata": {},
   "outputs": [],
   "source": []
  }
 ],
 "metadata": {
  "kernelspec": {
   "display_name": "GeneralMLvenv",
   "language": "python",
   "name": "python3"
  },
  "language_info": {
   "codemirror_mode": {
    "name": "ipython",
    "version": 3
   },
   "file_extension": ".py",
   "mimetype": "text/x-python",
   "name": "python",
   "nbconvert_exporter": "python",
   "pygments_lexer": "ipython3",
   "version": "3.10.12"
  }
 },
 "nbformat": 4,
 "nbformat_minor": 2
}
